{
 "cells": [
  {
   "cell_type": "code",
   "execution_count": 4,
   "id": "b179c335",
   "metadata": {},
   "outputs": [
    {
     "name": "stdout",
     "output_type": "stream",
     "text": [
      "abababa\n",
      "aba\n",
      "2\n"
     ]
    }
   ],
   "source": [
    "document = input()\n",
    "search = input()\n",
    "answer = 0\n",
    "i = 0\n",
    "\n",
    "while i < len(document):\n",
    "    try:\n",
    "        if document[i:i+len(search)] == search:\n",
    "            i += len(search)\n",
    "            answer += 1\n",
    "        else:\n",
    "            i += 1\n",
    "    \n",
    "    except IndexError:\n",
    "        break;\n",
    "        \n",
    "        \n",
    "print(answer)\n",
    "\n",
    "    \n"
   ]
  }
 ],
 "metadata": {
  "kernelspec": {
   "display_name": "Python 3 (ipykernel)",
   "language": "python",
   "name": "python3"
  },
  "language_info": {
   "codemirror_mode": {
    "name": "ipython",
    "version": 3
   },
   "file_extension": ".py",
   "mimetype": "text/x-python",
   "name": "python",
   "nbconvert_exporter": "python",
   "pygments_lexer": "ipython3",
   "version": "3.8.12"
  }
 },
 "nbformat": 4,
 "nbformat_minor": 5
}
