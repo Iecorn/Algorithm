{
 "cells": [
  {
   "cell_type": "code",
   "execution_count": 25,
   "id": "5913b3fe",
   "metadata": {
    "scrolled": true
   },
   "outputs": [
    {
     "name": "stdout",
     "output_type": "stream",
     "text": [
      "2\n",
      "GCF\n",
      "ACDEB\n",
      "99437\n"
     ]
    }
   ],
   "source": [
    "N=int(input())\n",
    "\n",
    "# 입력할 단어 변수 선언\n",
    "words = []\n",
    "\n",
    "# 입력받기\n",
    "for _ in range(N):\n",
    "  words.append(input())\n",
    "\n",
    "# 딕셔너리 초기화\n",
    "dict = {}\n",
    "\n",
    "# 딕셔너리에 알파벳별로 값을 집어 넣어준다.\n",
    "for word in words:\n",
    "  # 길이를 계산하여 10^square_root만큼 넣어주기 위해\n",
    "  # -1를 하는 이유는 맨뒤는 1의자리이기 때문에\n",
    "  # 0 제곱을 해야 한다.\n",
    "  square_root = len(word) - 1\n",
    "  for c in word:\n",
    "    if c in dict: # 값이 있는경우 더해준다.\n",
    "      dict[c] += pow(10, square_root)\n",
    "    else: # 없는경우 그대로 넣어준다.\n",
    "      dict[c] = pow(10, square_root)\n",
    "    # 제곱근을 뺴준다.\n",
    "    square_root -= 1 \n",
    "\n",
    "# 딕셔너리를 큰값부터 쓰기 위해 정렬\n",
    "dict = sorted(dict.values(), reverse=True)\n",
    "\n",
    "# 값 계산할 변수 선언\n",
    "result,m = 0,9\n",
    "\n",
    "# 값 계산하기\n",
    "for value in dict:\n",
    "  result += value * m\n",
    "  m -= 1\n",
    "\n",
    "print(result)"
   ]
  }
 ],
 "metadata": {
  "kernelspec": {
   "display_name": "Python 3 (ipykernel)",
   "language": "python",
   "name": "python3"
  },
  "language_info": {
   "codemirror_mode": {
    "name": "ipython",
    "version": 3
   },
   "file_extension": ".py",
   "mimetype": "text/x-python",
   "name": "python",
   "nbconvert_exporter": "python",
   "pygments_lexer": "ipython3",
   "version": "3.8.12"
  }
 },
 "nbformat": 4,
 "nbformat_minor": 5
}
