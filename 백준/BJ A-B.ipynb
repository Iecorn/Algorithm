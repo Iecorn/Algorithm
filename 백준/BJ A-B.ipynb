{
 "cells": [
  {
   "cell_type": "code",
   "execution_count": 5,
   "id": "ae502e71",
   "metadata": {},
   "outputs": [
    {
     "name": "stdout",
     "output_type": "stream",
     "text": [
      "2 162\n",
      "5\n"
     ]
    }
   ],
   "source": [
    "A,B = map(int, input().split())\n",
    "answer = 1\n",
    "\n",
    "while B != A:\n",
    "    temp = B\n",
    "    if B % 2 == 0:\n",
    "        B //= 2\n",
    "        answer += 1\n",
    "    elif B%10 == 1:\n",
    "        B //= 10\n",
    "        answer += 1\n",
    "        \n",
    "    if temp == B:\n",
    "        print(-1)\n",
    "        break\n",
    "\n",
    "else:\n",
    "    print(answer)"
   ]
  }
 ],
 "metadata": {
  "kernelspec": {
   "display_name": "Python 3 (ipykernel)",
   "language": "python",
   "name": "python3"
  },
  "language_info": {
   "codemirror_mode": {
    "name": "ipython",
    "version": 3
   },
   "file_extension": ".py",
   "mimetype": "text/x-python",
   "name": "python",
   "nbconvert_exporter": "python",
   "pygments_lexer": "ipython3",
   "version": "3.8.12"
  }
 },
 "nbformat": 4,
 "nbformat_minor": 5
}
